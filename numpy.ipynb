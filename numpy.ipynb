{
 "cells": [
  {
   "cell_type": "markdown",
   "id": "854af1d3-c7a0-420c-9126-fcd4403171ef",
   "metadata": {},
   "source": [
    "## Numpy"
   ]
  },
  {
   "cell_type": "raw",
   "id": "67e58165-2ab0-4d90-8315-da61c0f6a2e7",
   "metadata": {},
   "source": [
    "Permite trabalhar com arrays multidimensionais de tamanho fixo\n",
    "Elementos devem ter o mesmo tipo\n",
    "Processamento mais rápido"
   ]
  },
  {
   "cell_type": "code",
   "execution_count": 98,
   "id": "c36047c6-c415-4722-8aed-d0678a632b6d",
   "metadata": {},
   "outputs": [],
   "source": [
    "#importar a biblioteca numpy; pode-se usar um alias para facilitar\n",
    "# se der erro, abrir o terminal e digitar pip install numpy\n",
    "import numpy as np"
   ]
  },
  {
   "cell_type": "code",
   "execution_count": 9,
   "id": "5606146c-61c9-4a28-b676-1c3c4444aafa",
   "metadata": {},
   "outputs": [
    {
     "name": "stdout",
     "output_type": "stream",
     "text": [
      "[1 2 3 5 7]\n"
     ]
    }
   ],
   "source": [
    "#Criar um array\n",
    "array = np.array([1, 2, 3, 5, 7])\n",
    "print(array)"
   ]
  },
  {
   "cell_type": "code",
   "execution_count": 10,
   "id": "b574f4bb-4920-4c37-8b7b-ca4c55dc541b",
   "metadata": {},
   "outputs": [
    {
     "name": "stdout",
     "output_type": "stream",
     "text": [
      "<class 'numpy.ndarray'>\n"
     ]
    }
   ],
   "source": [
    "#para saber o tipo do array\n",
    "print(type(array))"
   ]
  },
  {
   "cell_type": "code",
   "execution_count": 11,
   "id": "f370e5a8-55ac-4e08-b0bb-06afffc9868f",
   "metadata": {},
   "outputs": [
    {
     "name": "stdout",
     "output_type": "stream",
     "text": [
      "[1. 2. 3. 4. 5.]\n",
      "Tipo:  <class 'numpy.ndarray'>\n"
     ]
    }
   ],
   "source": [
    "#Criar um array com um tipo específico\n",
    "#float de 64 bits\n",
    "array_float = np.array([1, 2, 3, 4, 5], dtype = np.float64)\n",
    "print(array_float)\n",
    "print(\"Tipo: \", type(array_float))"
   ]
  },
  {
   "cell_type": "raw",
   "id": "543e8b93-a7ce-41e8-b5c6-223a4a76dd89",
   "metadata": {},
   "source": [
    "Observe que os elementos aparecem com um ponto flutuante, indicando que são do tipo float"
   ]
  },
  {
   "cell_type": "code",
   "execution_count": 12,
   "id": "90634c2f-9357-4a77-9977-7f4174c7f37b",
   "metadata": {},
   "outputs": [
    {
     "name": "stdout",
     "output_type": "stream",
     "text": [
      "[1 2 3 4 5]\n",
      "Tipo:  <class 'numpy.ndarray'>\n"
     ]
    }
   ],
   "source": [
    "#Criando um array de inteiros de 32 bits\n",
    "array_int = np.array([1, 2, 3, 4, 5], dtype = np.int32)\n",
    "print(array_int)\n",
    "print(\"Tipo: \", type(array_int))"
   ]
  },
  {
   "cell_type": "raw",
   "id": "9e6a8135-164e-41d6-8f0d-4da2a554d80f",
   "metadata": {},
   "source": [
    "Neste caso, os elementos aparecem sem o ponto, pois são inteiros"
   ]
  },
  {
   "cell_type": "markdown",
   "id": "002326ed-7582-4671-9505-46cfeba2f4ab",
   "metadata": {},
   "source": [
    "### Alterando o tipo do array"
   ]
  },
  {
   "cell_type": "code",
   "execution_count": 13,
   "id": "367bbe9b-afec-48a1-8def-61e852cd03d6",
   "metadata": {},
   "outputs": [
    {
     "name": "stdout",
     "output_type": "stream",
     "text": [
      "[1.2    3.5    7.     2.6666]\n"
     ]
    }
   ],
   "source": [
    "array1 = np.array([1.2, 3.5, 7, 2.6666])\n",
    "print(array1)"
   ]
  },
  {
   "cell_type": "code",
   "execution_count": 17,
   "id": "4ece32be-e6ec-4173-96e9-933a5f06528a",
   "metadata": {},
   "outputs": [
    {
     "name": "stdout",
     "output_type": "stream",
     "text": [
      "[1 3 7 2]\n"
     ]
    }
   ],
   "source": [
    "#convertendo os elementos de float para int\n",
    "array1_int = array1.astype(np.int32)\n",
    "print(array1_int)"
   ]
  },
  {
   "cell_type": "raw",
   "id": "360616f8-6f15-4b9b-aeec-ff0aa2622764",
   "metadata": {},
   "source": [
    "Observe que os valores do tipo float são truncados (perdem as casas decimais), ao serem convertidos para int"
   ]
  },
  {
   "cell_type": "code",
   "execution_count": 18,
   "id": "c58723ec-4e3d-4930-8ea4-9bb0db5d15e7",
   "metadata": {},
   "outputs": [
    {
     "name": "stdout",
     "output_type": "stream",
     "text": [
      "[2. 5. 8.]\n"
     ]
    }
   ],
   "source": [
    "#convertendo de int para float\n",
    "array2 = np.array([2, 5, 8])\n",
    "array2_float = array2.astype(np.float64)\n",
    "print(array2_float)"
   ]
  },
  {
   "cell_type": "markdown",
   "id": "50c8c50d-b347-4edd-a9b5-db2d86d72445",
   "metadata": {},
   "source": [
    "### Arrays multidimensionais"
   ]
  },
  {
   "cell_type": "code",
   "execution_count": 22,
   "id": "46ae22a6-4fa3-4b2d-8dd2-a0c0e6b50d98",
   "metadata": {},
   "outputs": [
    {
     "name": "stdout",
     "output_type": "stream",
     "text": [
      "[[1 2 3]\n",
      " [4 5 6]\n",
      " [7 8 9]]\n"
     ]
    }
   ],
   "source": [
    "#Criando um array bidimensional (matriz)\n",
    "\n",
    "matriz = np.array([[1, 2, 3], [4, 5, 6], [7, 8, 9]])\n",
    "print(matriz)"
   ]
  },
  {
   "cell_type": "code",
   "execution_count": 112,
   "id": "36ef283b-ba5f-44fa-9019-1d34b448b5a1",
   "metadata": {},
   "outputs": [
    {
     "name": "stdout",
     "output_type": "stream",
     "text": [
      "[[0. 0.]\n",
      " [0. 0.]\n",
      " [0. 0.]]\n"
     ]
    }
   ],
   "source": [
    "#Criando uma matriz 3 X 2 (3 linhas e 2 colunas) com valores zero\n",
    "matriz_zero = np.zeros([3, 2]) #Os valores entre os colchetes se referem ao número de linhas e colunas\n",
    "print(matriz_zero)"
   ]
  },
  {
   "cell_type": "code",
   "execution_count": 27,
   "id": "77bc8d35-b909-4070-9a2d-7edead8bfeb2",
   "metadata": {},
   "outputs": [
    {
     "name": "stdout",
     "output_type": "stream",
     "text": [
      "[[1. 1. 1. 1. 1.]\n",
      " [1. 1. 1. 1. 1.]\n",
      " [1. 1. 1. 1. 1.]\n",
      " [1. 1. 1. 1. 1.]]\n"
     ]
    }
   ],
   "source": [
    "#Criando uma matriz 4x5 com valores 1\n",
    "matriz_um = np.ones([4, 5])\n",
    "print(matriz_um)"
   ]
  },
  {
   "cell_type": "code",
   "execution_count": 28,
   "id": "7f6a93c7-82a2-4d9f-a308-fcba51b4ce23",
   "metadata": {},
   "outputs": [
    {
     "name": "stdout",
     "output_type": "stream",
     "text": [
      "[[1 1 1 1 1]\n",
      " [1 1 1 1 1]\n",
      " [1 1 1 1 1]\n",
      " [1 1 1 1 1]]\n"
     ]
    }
   ],
   "source": [
    "# É possível definir como inteiro\n",
    "matriz_um_int = np.ones([4, 5], dtype = np.int32)\n",
    "print(matriz_um_int)"
   ]
  },
  {
   "cell_type": "code",
   "execution_count": 44,
   "id": "c3a5f602-f3b1-41ac-b46b-d538e3df3166",
   "metadata": {},
   "outputs": [
    {
     "name": "stdout",
     "output_type": "stream",
     "text": [
      "[[1. 0. 0.]\n",
      " [0. 1. 0.]\n",
      " [0. 0. 1.]]\n"
     ]
    }
   ],
   "source": [
    "# Matriz identidade = Matriz quadrada em que a diagonal principal tenha valor 1 e os outros 0\n",
    "matriz_identidade = np.eye(3) #nos parametros, só preciso definir o tamanho da matriz, já que é quadrada\n",
    "# se quiser, pode definir o tipo da matriz, colocando dtype = np.int32 como segundo parametro\n",
    "#matriz_identidade = np.eye(3, dtype = np.int32) \n",
    "print(matriz_identidade)"
   ]
  },
  {
   "cell_type": "code",
   "execution_count": 45,
   "id": "81d5f673-a5d4-41b5-bdc8-7a049cc18a5d",
   "metadata": {},
   "outputs": [
    {
     "name": "stdout",
     "output_type": "stream",
     "text": [
      "(3, 3)\n"
     ]
    }
   ],
   "source": [
    "# Para ver as dimensoes de uma matriz\n",
    "print(matriz_identidade.shape)"
   ]
  },
  {
   "cell_type": "markdown",
   "id": "9fd98945-07d5-4d59-abd0-420dc618cdac",
   "metadata": {},
   "source": [
    "### Valores aleatórios"
   ]
  },
  {
   "cell_type": "code",
   "execution_count": 35,
   "id": "631eb5db-2914-45bd-86c7-e970d58fc8c8",
   "metadata": {},
   "outputs": [
    {
     "name": "stdout",
     "output_type": "stream",
     "text": [
      "[0.96621476 0.73755282 0.07320545]\n"
     ]
    }
   ],
   "source": [
    "#Array com valores aleatórios entre 0 e 1\n",
    "array_aleatorio = np.random.random(3)\n",
    "print(array_aleatorio)"
   ]
  },
  {
   "cell_type": "code",
   "execution_count": 48,
   "id": "211a6ad5-39bc-4a9a-af63-991cd18ea948",
   "metadata": {},
   "outputs": [
    {
     "name": "stdout",
     "output_type": "stream",
     "text": [
      "[[0.95321654 0.61395753]\n",
      " [0.27879673 0.73336515]\n",
      " [0.55320777 0.08572439]\n",
      " [0.99416335 0.58443953]]\n"
     ]
    }
   ],
   "source": [
    "# Matriz com valores aleatórios entre 0 e 1\n",
    "matriz_aleatoria = np.random.random([4, 2])\n",
    "print(matriz_aleatoria)"
   ]
  },
  {
   "cell_type": "code",
   "execution_count": 49,
   "id": "4c9f3e7b-92e5-4e12-a6b5-4730743a5f0a",
   "metadata": {},
   "outputs": [
    {
     "name": "stdout",
     "output_type": "stream",
     "text": [
      "[[0 0 3 0 2]\n",
      " [1 0 1 3 3]]\n"
     ]
    }
   ],
   "source": [
    "# Valores aleatórios inteiros\n",
    "array_aleatorio_int = np.random.randint(4, size = (2, 5))\n",
    "#gera um array 2x5 com numeros aleatorios entre 0 e 4 (0, 1, 2, 3)\n",
    "print(array_aleatorio_int)"
   ]
  },
  {
   "cell_type": "markdown",
   "id": "8fbf6cf0-2b9c-4d32-b38d-8012960ec49c",
   "metadata": {},
   "source": [
    "### Funções Matemáticas"
   ]
  },
  {
   "cell_type": "code",
   "execution_count": 56,
   "id": "840480f6-0fd3-4563-a874-d9f9522717a3",
   "metadata": {},
   "outputs": [
    {
     "name": "stdout",
     "output_type": "stream",
     "text": [
      "[[ 1  4  5]\n",
      " [12 -3  8]]\n"
     ]
    }
   ],
   "source": [
    "# criando uma matriz para os testes\n",
    "matriz_teste = np.array([[1, 4, 5], [12, -3, 8]])\n",
    "print(matriz_teste)"
   ]
  },
  {
   "cell_type": "code",
   "execution_count": 59,
   "id": "2cb1d7be-c7cf-4f56-908b-578ff3c90fa3",
   "metadata": {},
   "outputs": [
    {
     "name": "stdout",
     "output_type": "stream",
     "text": [
      "12\n"
     ]
    }
   ],
   "source": [
    "# Maior valor da matriz\n",
    "print(matriz_teste.max())"
   ]
  },
  {
   "cell_type": "code",
   "execution_count": 60,
   "id": "3aac3225-32e0-4c37-8cfe-03503ccf5a62",
   "metadata": {},
   "outputs": [
    {
     "name": "stdout",
     "output_type": "stream",
     "text": [
      "-3\n"
     ]
    }
   ],
   "source": [
    "# Menor valor da matriz\n",
    "print(matriz_teste.min())"
   ]
  },
  {
   "cell_type": "code",
   "execution_count": 61,
   "id": "63977af1-92de-4178-90cf-28c1bae12257",
   "metadata": {},
   "outputs": [
    {
     "name": "stdout",
     "output_type": "stream",
     "text": [
      "27\n"
     ]
    }
   ],
   "source": [
    "# Soma dos elementos da matriz\n",
    "print(matriz_teste.sum())"
   ]
  },
  {
   "cell_type": "code",
   "execution_count": 62,
   "id": "6a270fda-2b72-4087-a593-ef7c48d22650",
   "metadata": {},
   "outputs": [
    {
     "name": "stdout",
     "output_type": "stream",
     "text": [
      "4.5\n"
     ]
    }
   ],
   "source": [
    "# Média dos valores da matriz\n",
    "print(matriz_teste.mean())"
   ]
  },
  {
   "cell_type": "code",
   "execution_count": 63,
   "id": "2eb40a1e-a69b-4407-b207-1bbc508c07de",
   "metadata": {},
   "outputs": [
    {
     "name": "stdout",
     "output_type": "stream",
     "text": [
      "[[ 2.  3.  5.]\n",
      " [ 4.  6.  7.]\n",
      " [ 8.  9. 11.]]\n"
     ]
    }
   ],
   "source": [
    "# Raiz quadrada\n",
    "matriz_teste2 = np.array([[4, 9, 25], [16, 36, 49], [64, 81, 121]])\n",
    "print(np.sqrt(matriz_teste2))"
   ]
  },
  {
   "cell_type": "code",
   "execution_count": 71,
   "id": "dff02dc1-02b7-4244-b69d-e7967f777f84",
   "metadata": {},
   "outputs": [
    {
     "name": "stdout",
     "output_type": "stream",
     "text": [
      "[ 4 16 25]\n",
      "[  8  64 125]\n"
     ]
    }
   ],
   "source": [
    "# Potências\n",
    "array_teste = np.array([2, 4, 5])\n",
    "\n",
    "#Quadrado dos elementos\n",
    "print(np.power(array_teste, 2))\n",
    "\n",
    "# Elementos elevados ao cubo\n",
    "print(np.power(array_teste, 3))"
   ]
  },
  {
   "cell_type": "markdown",
   "id": "e33e764d-f90b-432e-a465-7cd9699c37d1",
   "metadata": {},
   "source": [
    "### Extração de elementos"
   ]
  },
  {
   "cell_type": "code",
   "execution_count": 72,
   "id": "238804bb-6d95-4265-a9dd-5906ee5564ff",
   "metadata": {},
   "outputs": [
    {
     "name": "stdout",
     "output_type": "stream",
     "text": [
      "7\n"
     ]
    }
   ],
   "source": [
    "array_teste = np.array([1, 3, 7, 4, 8, 9, 2, 6])\n",
    "\n",
    "# Terceiro elemento do array\n",
    "print(array_teste[2])"
   ]
  },
  {
   "cell_type": "code",
   "execution_count": 73,
   "id": "5d56585a-d1bb-4e4d-a4b9-ed91a291b7c8",
   "metadata": {},
   "outputs": [
    {
     "name": "stdout",
     "output_type": "stream",
     "text": [
      "[1 3]\n"
     ]
    }
   ],
   "source": [
    "#dois primeiros elementos do array (intervalo de 0 a 2)\n",
    "print(array_teste[0:2])"
   ]
  },
  {
   "cell_type": "code",
   "execution_count": 74,
   "id": "38eb7d9d-bf11-4ac2-bec4-d767d69d0bf0",
   "metadata": {},
   "outputs": [
    {
     "name": "stdout",
     "output_type": "stream",
     "text": [
      "[3 7 4 8]\n"
     ]
    }
   ],
   "source": [
    "# Intervalo entre o segundo elemento e o 5o. elemento do array\n",
    "print(array_teste[1:5])"
   ]
  },
  {
   "cell_type": "code",
   "execution_count": 75,
   "id": "1eddef0c-7754-477d-a4a1-eb26378552d6",
   "metadata": {},
   "outputs": [
    {
     "name": "stdout",
     "output_type": "stream",
     "text": [
      "[7 4 8 9 2 6]\n"
     ]
    }
   ],
   "source": [
    "# Elementos a partir da terceira posição, até o final\n",
    "print(array_teste[2:])"
   ]
  },
  {
   "cell_type": "code",
   "execution_count": 76,
   "id": "b1ea36cb-f316-488b-b7e9-21e83442d97f",
   "metadata": {},
   "outputs": [
    {
     "name": "stdout",
     "output_type": "stream",
     "text": [
      "[2 6]\n"
     ]
    }
   ],
   "source": [
    "# Elementos a partir da penultima posição\n",
    "print(array_teste[-2:])"
   ]
  },
  {
   "cell_type": "code",
   "execution_count": 78,
   "id": "d76f464c-8052-414b-89af-e944559c9df6",
   "metadata": {},
   "outputs": [
    {
     "name": "stdout",
     "output_type": "stream",
     "text": [
      "[8 9 2 6]\n"
     ]
    }
   ],
   "source": [
    "# Quatro últimos elementos do array\n",
    "print(array_teste[-4:])"
   ]
  },
  {
   "cell_type": "markdown",
   "id": "b299d2af-4aad-4064-9ecf-2e65c1757f0b",
   "metadata": {},
   "source": [
    "#### Extração de elementos da matriz"
   ]
  },
  {
   "cell_type": "code",
   "execution_count": 80,
   "id": "c05bef7d-f0e9-48c2-978b-799be714f431",
   "metadata": {},
   "outputs": [
    {
     "name": "stdout",
     "output_type": "stream",
     "text": [
      "[[4 2 1]\n",
      " [5 3 7]\n",
      " [6 8 9]]\n"
     ]
    }
   ],
   "source": [
    "matriz_teste = np.array([[4, 2, 1], [5, 3, 7], [6, 8, 9]])\n",
    "\n",
    "print(matriz_teste)"
   ]
  },
  {
   "cell_type": "code",
   "execution_count": 81,
   "id": "4de0a215-16e9-4264-b61d-57bd0d8f50ae",
   "metadata": {},
   "outputs": [
    {
     "name": "stdout",
     "output_type": "stream",
     "text": [
      "[4 2 1]\n"
     ]
    }
   ],
   "source": [
    "# Exibir a primeira linha\n",
    "print(matriz_teste[0, :])"
   ]
  },
  {
   "cell_type": "code",
   "execution_count": 82,
   "id": "479f5c33-7884-4f5e-831c-236cdd0785f8",
   "metadata": {},
   "outputs": [
    {
     "name": "stdout",
     "output_type": "stream",
     "text": [
      "[2 3 8]\n"
     ]
    }
   ],
   "source": [
    "# Exibir a segunda coluna\n",
    "print(matriz_teste[:, 1])"
   ]
  },
  {
   "cell_type": "code",
   "execution_count": 83,
   "id": "1a0f77a1-5a33-45c6-9022-7b5acb5e3c7d",
   "metadata": {},
   "outputs": [
    {
     "name": "stdout",
     "output_type": "stream",
     "text": [
      "[[4 2]\n",
      " [5 3]]\n"
     ]
    }
   ],
   "source": [
    "# Exibir os dois elementos da primeira e segunda linhas\n",
    "print(matriz_teste[0:2, 0:2])"
   ]
  },
  {
   "cell_type": "markdown",
   "id": "5ee825a9-c8ce-45c2-8f6c-fdfe72080bdd",
   "metadata": {},
   "source": [
    "### Operações entre matrizes"
   ]
  },
  {
   "cell_type": "code",
   "execution_count": 85,
   "id": "d6343740-a580-4d05-b9a9-592fc18e30cb",
   "metadata": {},
   "outputs": [
    {
     "name": "stdout",
     "output_type": "stream",
     "text": [
      "[[2 4 3]\n",
      " [1 5 6]]\n",
      "[[1 6 2]\n",
      " [9 0 7]]\n"
     ]
    }
   ],
   "source": [
    "# Criação de duas matrizes\n",
    "m1 = np.array([[2, 4, 3], [1, 5, 6]])\n",
    "m2 = np.array([[1, 6, 2], [9, 0, 7]])\n",
    "print(m1)\n",
    "print(m2)"
   ]
  },
  {
   "cell_type": "code",
   "execution_count": 88,
   "id": "25dcbcbc-6ab4-48ce-acfa-7e434129e9fb",
   "metadata": {},
   "outputs": [
    {
     "name": "stdout",
     "output_type": "stream",
     "text": [
      "[[ 3 10  5]\n",
      " [10  5 13]]\n"
     ]
    }
   ],
   "source": [
    "# Soma entre matrizes\n",
    "# As duas matrizes devem ser do mesmo tamanho\n",
    "# O resultado será uma matriz também do mesmo tamanho\n",
    "print(m1 + m2)"
   ]
  },
  {
   "cell_type": "code",
   "execution_count": 87,
   "id": "10b1d344-dba7-4ba2-84a6-dd49c5fdcd95",
   "metadata": {},
   "outputs": [
    {
     "name": "stdout",
     "output_type": "stream",
     "text": [
      "[[ 1 -2  1]\n",
      " [-8  5 -1]]\n"
     ]
    }
   ],
   "source": [
    "# Subtração: mesmas regras da soma\n",
    "print(m1 - m2)"
   ]
  },
  {
   "cell_type": "code",
   "execution_count": 89,
   "id": "949bbf22-0def-4165-a7c6-a45d7d452441",
   "metadata": {},
   "outputs": [
    {
     "name": "stdout",
     "output_type": "stream",
     "text": [
      "[[3 6 6]\n",
      " [2 7 9]]\n"
     ]
    }
   ],
   "source": [
    "# Outra situação\n",
    "m3 = np.array([[1, 2, 3]])\n",
    "print(m1 + m3)"
   ]
  },
  {
   "cell_type": "raw",
   "id": "34ceb151-338e-4762-8fb9-24e5868f5640",
   "metadata": {},
   "source": [
    "A biblioteca completa as linhas restantes com os mesmos valores"
   ]
  },
  {
   "cell_type": "code",
   "execution_count": 109,
   "id": "1ab281eb-0342-468f-ad62-ebbb45786e01",
   "metadata": {},
   "outputs": [
    {
     "name": "stdout",
     "output_type": "stream",
     "text": [
      "[[ 2 24  6]\n",
      " [ 9  0 42]]\n"
     ]
    }
   ],
   "source": [
    "# Multiplicação\n",
    "\n",
    "print(m1 * m2)\n",
    "\n",
    "# Neste caso, os elementos são simplesmente multiplicados um a um"
   ]
  },
  {
   "cell_type": "code",
   "execution_count": 110,
   "id": "00125961-137f-44ea-83e8-1a3fff6a9027",
   "metadata": {},
   "outputs": [
    {
     "name": "stdout",
     "output_type": "stream",
     "text": [
      "[[1 2]\n",
      " [0 1]\n",
      " [4 3]]\n",
      "-----------\n",
      "[[0 2 3 1]\n",
      " [1 4 3 5]]\n"
     ]
    }
   ],
   "source": [
    "# Multiplicação entre matrizes - forma matemática\n",
    "# A primeira matriz deve ter o número de colunas equivalente ao número de linhas da segunda matriz\n",
    "# Ex: multiplicação de uma matriz 3x2 por uma matriz 2x4\n",
    "m4 = np.array([[1, 2], [0, 1], [4, 3]])\n",
    "print(m4)\n",
    "print(\"-----------\")\n",
    "m5 = np.array([[0, 2, 3, 1], [1, 4, 3, 5]])\n",
    "print(m5)"
   ]
  },
  {
   "cell_type": "code",
   "execution_count": 111,
   "id": "87be9fef-34fa-4ec0-b782-1ca07e01beff",
   "metadata": {},
   "outputs": [
    {
     "name": "stdout",
     "output_type": "stream",
     "text": [
      "[[ 2 10  9 11]\n",
      " [ 1  4  3  5]\n",
      " [ 3 20 21 19]]\n"
     ]
    }
   ],
   "source": [
    "# A matriz resultante vai ter tamanho equivalente a linhas(matriz1) x colunas(matriz2) = 3x4\n",
    "# Para a operação matemática, deve-se usar np.dot()\n",
    "print(np.dot(m4, m5))"
   ]
  },
  {
   "cell_type": "markdown",
   "id": "ef2416d6-66ed-4215-ace3-a4b6f6250347",
   "metadata": {},
   "source": [
    "### Where"
   ]
  },
  {
   "cell_type": "code",
   "execution_count": 115,
   "id": "5b20d9e0-9380-48ab-bd47-b292eb65fd49",
   "metadata": {},
   "outputs": [
    {
     "name": "stdout",
     "output_type": "stream",
     "text": [
      "[[ 0  1  3]\n",
      " [-2  4  5]\n",
      " [-1  3  7]]\n"
     ]
    }
   ],
   "source": [
    "# Criando uma matriz 3 x 3\n",
    "matriz_3 = np.array([[0, 1, 3], [-2, 4, 5], [-1, 3, 7]])\n",
    "print(matriz_3)"
   ]
  },
  {
   "cell_type": "code",
   "execution_count": 125,
   "id": "55ce3c5b-4705-4134-a0d7-de82f96502ef",
   "metadata": {},
   "outputs": [
    {
     "name": "stdout",
     "output_type": "stream",
     "text": [
      "[[False  True  True]\n",
      " [False  True  True]\n",
      " [False  True  True]]\n"
     ]
    }
   ],
   "source": [
    "# Criar uma matriz de booleanos verificando se os números estão entre 1 e 3\n",
    "matriz_bool = (matriz_3 >= 1)\n",
    "print(matriz_bool)"
   ]
  },
  {
   "cell_type": "code",
   "execution_count": 126,
   "id": "e89f27d1-8102-452c-b2e0-c099102b11b3",
   "metadata": {},
   "outputs": [
    {
     "name": "stdout",
     "output_type": "stream",
     "text": [
      "[[0 0 1]\n",
      " [0 1 1]\n",
      " [0 1 1]]\n"
     ]
    }
   ],
   "source": [
    "# Criar uma matriz com valores 0, se os números forem menores que 3 e 1\n",
    "matriz_nova = np.where(matriz_3 < 3, 0, 1) #where funciona como um operador ternário\n",
    "print(matriz_nova)"
   ]
  }
 ],
 "metadata": {
  "kernelspec": {
   "display_name": "Python 3 (ipykernel)",
   "language": "python",
   "name": "python3"
  },
  "language_info": {
   "codemirror_mode": {
    "name": "ipython",
    "version": 3
   },
   "file_extension": ".py",
   "mimetype": "text/x-python",
   "name": "python",
   "nbconvert_exporter": "python",
   "pygments_lexer": "ipython3",
   "version": "3.12.7"
  }
 },
 "nbformat": 4,
 "nbformat_minor": 5
}
